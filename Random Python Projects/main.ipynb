{
 "cells": [
  {
   "cell_type": "markdown",
   "metadata": {},
   "source": [
    "# Acronyms Using Python"
   ]
  },
  {
   "cell_type": "code",
   "execution_count": 3,
   "metadata": {},
   "outputs": [
    {
     "name": "stdout",
     "output_type": "stream",
     "text": [
      " AI\n"
     ]
    }
   ],
   "source": [
    "user_input = str(input(\"Enter a Phrase: \"))\n",
    "text = user_input.split()\n",
    "a = \" \"\n",
    "for i in text:\n",
    "    a = a + str(i[0]).upper()\n",
    "print(a)"
   ]
  },
  {
   "cell_type": "markdown",
   "metadata": {},
   "source": [
    "# Alarm Clock with Python"
   ]
  },
  {
   "cell_type": "code",
   "execution_count": 8,
   "metadata": {},
   "outputs": [
    {
     "name": "stdout",
     "output_type": "stream",
     "text": [
      "Setting up alarm..\n"
     ]
    },
    {
     "ename": "KeyboardInterrupt",
     "evalue": "",
     "output_type": "error",
     "traceback": [
      "\u001b[1;31m---------------------------------------------------------------------------\u001b[0m",
      "\u001b[1;31mKeyboardInterrupt\u001b[0m                         Traceback (most recent call last)",
      "Cell \u001b[1;32mIn [8], line 13\u001b[0m\n\u001b[0;32m     11\u001b[0m current_hour \u001b[38;5;241m=\u001b[39m now\u001b[38;5;241m.\u001b[39mstrftime(\u001b[38;5;124m\"\u001b[39m\u001b[38;5;124m%\u001b[39m\u001b[38;5;124mI\u001b[39m\u001b[38;5;124m\"\u001b[39m)\n\u001b[0;32m     12\u001b[0m current_minute \u001b[38;5;241m=\u001b[39m now\u001b[38;5;241m.\u001b[39mstrftime(\u001b[38;5;124m\"\u001b[39m\u001b[38;5;124m%\u001b[39m\u001b[38;5;124mM\u001b[39m\u001b[38;5;124m\"\u001b[39m)\n\u001b[1;32m---> 13\u001b[0m current_seconds \u001b[38;5;241m=\u001b[39m \u001b[43mnow\u001b[49m\u001b[38;5;241;43m.\u001b[39;49m\u001b[43mstrftime\u001b[49m\u001b[43m(\u001b[49m\u001b[38;5;124;43m\"\u001b[39;49m\u001b[38;5;124;43m%\u001b[39;49m\u001b[38;5;124;43mS\u001b[39;49m\u001b[38;5;124;43m\"\u001b[39;49m\u001b[43m)\u001b[49m\n\u001b[0;32m     14\u001b[0m current_period \u001b[38;5;241m=\u001b[39m now\u001b[38;5;241m.\u001b[39mstrftime(\u001b[38;5;124m\"\u001b[39m\u001b[38;5;124m%\u001b[39m\u001b[38;5;124mp\u001b[39m\u001b[38;5;124m\"\u001b[39m)\n\u001b[0;32m     15\u001b[0m \u001b[38;5;28;01mif\u001b[39;00m(alarm_period\u001b[38;5;241m==\u001b[39mcurrent_period):\n",
      "\u001b[1;31mKeyboardInterrupt\u001b[0m: "
     ]
    }
   ],
   "source": [
    "from datetime import datetime   \n",
    "from playsound import playsound\n",
    "alarm_time = input(\"Enter the time of alarm to be set:HH:MM:SS\\n\")\n",
    "alarm_hour=alarm_time[0:2]\n",
    "alarm_minute=alarm_time[3:5]\n",
    "alarm_seconds=alarm_time[6:8]\n",
    "alarm_period = alarm_time[9:11].upper()\n",
    "print(\"Setting up alarm..\")\n",
    "while True:\n",
    "    now = datetime.now()\n",
    "    current_hour = now.strftime(\"%I\")\n",
    "    current_minute = now.strftime(\"%M\")\n",
    "    current_seconds = now.strftime(\"%S\")\n",
    "    current_period = now.strftime(\"%p\")\n",
    "    if(alarm_period==current_period):\n",
    "        if(alarm_hour==current_hour):\n",
    "            if(alarm_minute==current_minute):\n",
    "                if(alarm_seconds==current_seconds):\n",
    "                    print(\"Wake Up!\")\n",
    "                    playsound('audio.mp3')\n",
    "                    break"
   ]
  },
  {
   "cell_type": "markdown",
   "metadata": {},
   "source": [
    "# Email Slicer with Python"
   ]
  },
  {
   "cell_type": "code",
   "execution_count": 7,
   "metadata": {},
   "outputs": [
    {
     "name": "stdout",
     "output_type": "stream",
     "text": [
      "Your user name is 'isaacbustamante99' and your domain is 'gmail.com'\n"
     ]
    }
   ],
   "source": [
    "email = input(\"Enter Your Email: \").strip()\n",
    "username = email[:email.index(\"@\")]\n",
    "domain_name = email[email.index(\"@\") + 1:]\n",
    "format_ = (f\"Your user name is '{username}' and your domain is '{domain_name}'\")\n",
    "print(format_)"
   ]
  },
  {
   "cell_type": "markdown",
   "metadata": {},
   "source": [
    "# Story Generator with Python"
   ]
  },
  {
   "cell_type": "code",
   "execution_count": 9,
   "metadata": {},
   "outputs": [
    {
     "name": "stdout",
     "output_type": "stream",
     "text": [
      "A long time ago, a mouse that lived in Venice, went to the seminar and made a lot of friends\n"
     ]
    }
   ],
   "source": [
    "import random\n",
    "when = ['A few years ago', 'Yesterday', 'Last night', 'A long time ago','On 20th Jan']\n",
    "who = ['a rabbit', 'an elephant', 'a mouse', 'a turtle','a cat']\n",
    "name = ['Ali', 'Miriam','daniel', 'Hoouk', 'Starwalker']\n",
    "residence = ['Barcelona','India', 'Germany', 'Venice', 'England']\n",
    "went = ['cinema', 'university','seminar', 'school', 'laundry']\n",
    "happened = ['made a lot of friends','Eats a burger', 'found a secret key', 'solved a mistery', 'wrote a book']\n",
    "print(random.choice(when) + ', ' + random.choice(who) + ' that lived in ' + random.choice(residence) + ', went to the ' + random.choice(went) + ' and ' + random.choice(happened))"
   ]
  },
  {
   "cell_type": "markdown",
   "metadata": {},
   "source": [
    "# Python Program to Generate Password"
   ]
  },
  {
   "cell_type": "code",
   "execution_count": 10,
   "metadata": {},
   "outputs": [
    {
     "name": "stdout",
     "output_type": "stream",
     "text": [
      "xC4vhmzuTP\n"
     ]
    }
   ],
   "source": [
    "import random\n",
    "passlen = int(input(\"enter the length of password\"))\n",
    "s=\"abcdefghijklmnopqrstuvwxyz01234567890ABCDEFGHIJKLMNOPQRSTUVWXYZ!@#$%^&*()?\"\n",
    "p = \"\".join(random.sample(s, passlen))\n",
    "print(p)"
   ]
  },
  {
   "cell_type": "markdown",
   "metadata": {},
   "source": [
    "# Rock Paper and Scissors with Python"
   ]
  },
  {
   "cell_type": "code",
   "execution_count": 11,
   "metadata": {},
   "outputs": [
    {
     "name": "stdout",
     "output_type": "stream",
     "text": [
      "You win! Paper covers Rock\n",
      "Tie!\n",
      "Tie!\n",
      "You win! Paper covers Rock\n",
      "Final Scores:\n",
      "CPU:0\n",
      "Player:2\n"
     ]
    }
   ],
   "source": [
    "import random\n",
    "choices = [\"Rock\", \"Paper\", \"Scissors\"]\n",
    "computer = random.choice(choices)\n",
    "player = False\n",
    "cpu_score = 0\n",
    "player_score = 0\n",
    "while True:\n",
    "    player = input(\"Rock, Paper or  Scissors?\").capitalize()\n",
    "    ## Conditions of Rock,Paper and Scissors\n",
    "    if player == computer:\n",
    "        print(\"Tie!\")\n",
    "    elif player == \"Rock\":\n",
    "        if computer == \"Paper\":\n",
    "            print(\"You lose!\", computer, \"covers\", player)\n",
    "            cpu_score+=1\n",
    "        else:\n",
    "            print(\"You win!\", player, \"smashes\", computer)\n",
    "            player_score+=1\n",
    "    elif player == \"Paper\":\n",
    "        if computer == \"Scissors\":\n",
    "            print(\"You lose!\", computer, \"cut\", player)\n",
    "            cpu_score+=1\n",
    "        else:\n",
    "            print(\"You win!\", player, \"covers\", computer)\n",
    "            player_score+=1\n",
    "    elif player == \"Scissors\":\n",
    "        if computer == \"Rock\":\n",
    "            print(\"You lose...\", computer, \"smashes\", player)\n",
    "            cpu_score+=1\n",
    "        else:\n",
    "            print(\"You win!\", player, \"cut\", computer)\n",
    "            player_score+=1\n",
    "    elif player=='End':\n",
    "        print(\"Final Scores:\")\n",
    "        print(f\"CPU:{cpu_score}\")\n",
    "        print(f\"Plaer:{player_score}\")\n",
    "        break"
   ]
  },
  {
   "cell_type": "markdown",
   "metadata": {},
   "source": [
    "# Dice Roll Simulator with Python"
   ]
  },
  {
   "cell_type": "code",
   "execution_count": 13,
   "metadata": {},
   "outputs": [
    {
     "name": "stdout",
     "output_type": "stream",
     "text": [
      "Rolling The Dices...\n",
      "The Values are :\n",
      "6\n",
      "5\n",
      "Rolling The Dices...\n",
      "The Values are :\n",
      "4\n",
      "3\n",
      "Rolling The Dices...\n",
      "The Values are :\n",
      "4\n",
      "3\n"
     ]
    }
   ],
   "source": [
    "# importing module for random number generation\n",
    "import random\n",
    "\n",
    "# range of the values of a dice\n",
    "min_val = 1\n",
    "max_val = 6\n",
    "\n",
    "# to loop the rolling through user input\n",
    "roll_again = \"yes\"\n",
    "\n",
    "# loop\n",
    "while roll_again == \"yes\" or roll_again == \"y\":\n",
    "    print(\"Rolling The Dices...\")\n",
    "    print(\"The Values are :\")\n",
    "\n",
    "\n",
    "    # generating and printing 1st random integer from 1 to 6\n",
    "    print(random.randint(min_val, max_val))\n",
    "\n",
    "    # generating and printing 2nd random integer from 1 to 6\n",
    "    print(random.randint(min_val, max_val))\n",
    "\n",
    "    # asking user to roll the dice again. Any input other than yes or y will terminate the loop\n",
    "    roll_again = input(\"Roll the Dices Again?\")"
   ]
  },
  {
   "cell_type": "markdown",
   "metadata": {},
   "source": [
    "# QR Codes with Python"
   ]
  },
  {
   "cell_type": "code",
   "execution_count": 14,
   "metadata": {},
   "outputs": [],
   "source": [
    "import pyqrcode \n",
    "from pyqrcode import QRCode \n",
    "  \n",
    "# String which represent the QR code \n",
    "s = \"https://www.youtube.com/channel/UCeO9hPCfRzqb2yTuAn713Mg\"\n",
    "  \n",
    "# Generate QR code \n",
    "url = pyqrcode.create(s) \n",
    "  \n",
    "# Create and save the png file naming \"myqr.png\" \n",
    "url.svg(\"myyoutube.svg\", scale = 8)"
   ]
  },
  {
   "cell_type": "markdown",
   "metadata": {},
   "source": [
    "# Create a Quiz Game with Python"
   ]
  },
  {
   "cell_type": "code",
   "execution_count": 15,
   "metadata": {},
   "outputs": [
    {
     "name": "stdout",
     "output_type": "stream",
     "text": [
      "Guess the Animal\n",
      "Correct Answer\n",
      "Correct Answer\n",
      "Correct Answer\n",
      "Your Score is 3\n"
     ]
    }
   ],
   "source": [
    "from tkinter import scrolledtext\n",
    "\n",
    "\n",
    "def check_guess(guess, answer):\n",
    "    global score\n",
    "    still_guesing = True\n",
    "    attempt = 0\n",
    "    while still_guesing and attempt < 3:\n",
    "        if guess.lower() == answer.lower():\n",
    "            print(\"Correct Answer\")\n",
    "            score = score + 1\n",
    "            still_guesing = False\n",
    "        else:\n",
    "            if attempt < 2:\n",
    "                guess = input(\"Sorry Wrong Answer, try again\")\n",
    "            attempt = attempt + 1\n",
    "    if attempt == 3:\n",
    "        print(\"The Correct answer is \", answer)\n",
    "\n",
    "score = 0\n",
    "print(\"Guess the Animal\")\n",
    "guess1 = input(\"Which bear lives at the North Pole? \")\n",
    "check_guess(guess1, \"polar bear\")\n",
    "guess2 = input(\"Which is the fastest land animal? \")\n",
    "check_guess(guess2, \"Cheetah\")\n",
    "guess3 = input(\"Which is the largest animal?\")\n",
    "check_guess(guess3, \"Blue Whale\")\n",
    "print(\"Your Score is \" + str(score))"
   ]
  },
  {
   "cell_type": "markdown",
   "metadata": {},
   "source": [
    "# Print Colored Text with Python"
   ]
  },
  {
   "cell_type": "code",
   "execution_count": 17,
   "metadata": {},
   "outputs": [
    {
     "name": "stdout",
     "output_type": "stream",
     "text": [
      "Hi My name is Aman Kharwal I am your Machine Learning Instructor\n",
      "Hi My name is Aman Kharwal\n",
      "Hi My name is Aman Kharwal\n"
     ]
    }
   ],
   "source": [
    "import colorama\n",
    "from colorama import Fore, Back, Style\n",
    "colorama.init(autoreset=True)\n",
    "\n",
    "print(Fore.BLUE + Back.YELLOW + \"Hi My name is Aman Kharwal \" + Fore.YELLOW + Back.BLUE + \"I am your Machine Learning Instructor\")\n",
    "print(Back.CYAN + \"Hi My name is Aman Kharwal\")\n",
    "print(Fore.RED + Back.GREEN + \"Hi My name is Aman Kharwal\")"
   ]
  },
  {
   "cell_type": "markdown",
   "metadata": {},
   "source": [
    "# BMI Calculator with Python"
   ]
  },
  {
   "cell_type": "code",
   "execution_count": 18,
   "metadata": {},
   "outputs": [
    {
     "name": "stdout",
     "output_type": "stream",
     "text": [
      "Your Body Mass Index is:  222.90809327846364\n",
      "you are severely overweight\n"
     ]
    }
   ],
   "source": [
    "Height = float(input(\"Enter your height in centimeters: \"))\n",
    "Weight = float(input(\"Enter your Weight in Kg: \"))\n",
    "Height = Height/100\n",
    "BMI = Weight/(Height*Height)\n",
    "print(\"Your Body Mass Index is: \", BMI)\n",
    "if (BMI > 0):\n",
    "    if (BMI <= 16):\n",
    "        print(\"you are severely underweight\")\n",
    "    elif (BMI <= 18.5):\n",
    "        print(\"your are underweight\")\n",
    "    elif (BMI <= 25):\n",
    "        print(\"You are Healthy\")\n",
    "    elif (BMI <= 30):\n",
    "        print(\"You are overweight\")\n",
    "    else: print(\"you are severely overweight\")\n",
    "else: (\"Enter valid details\")"
   ]
  },
  {
   "cell_type": "markdown",
   "metadata": {},
   "source": [
    "# Convert Fahrenheit to Celsius with Python"
   ]
  },
  {
   "cell_type": "code",
   "execution_count": 19,
   "metadata": {},
   "outputs": [
    {
     "name": "stdout",
     "output_type": "stream",
     "text": [
      "25.555555555555557\n"
     ]
    }
   ],
   "source": [
    "def convert(s):\n",
    "    f = float(s)\n",
    "    c = (f - 32) * 5/9\n",
    "    return c\n",
    "\n",
    "print(convert(78))"
   ]
  },
  {
   "cell_type": "markdown",
   "metadata": {},
   "source": [
    "# Multiple Inputs with Python using While Loop"
   ]
  },
  {
   "cell_type": "code",
   "execution_count": 20,
   "metadata": {},
   "outputs": [
    {
     "name": "stdout",
     "output_type": "stream",
     "text": [
      "Hello\n",
      "How\n",
      "Are\n",
      "You\n",
      "Doing\n",
      "?\n"
     ]
    }
   ],
   "source": [
    "while True:\n",
    "    reply = input(\"Enter Text: \")\n",
    "    if reply == 'stop': break\n",
    "    print(reply)"
   ]
  },
  {
   "cell_type": "markdown",
   "metadata": {},
   "source": [
    "# Python Program to Convert Roman Numbers to Decimals"
   ]
  },
  {
   "cell_type": "code",
   "execution_count": 23,
   "metadata": {},
   "outputs": [],
   "source": [
    "tallies = {\n",
    "    'I': 1,\n",
    "    'V': 5,\n",
    "    'X': 10,\n",
    "    'L': 50,\n",
    "    'C': 100,\n",
    "    'D': 500,\n",
    "    'M': 1000,\n",
    "    # specify more numerals if you wish\n",
    "}\n",
    "\n",
    "def RomanNumeralToDecimal(romanNumeral):\n",
    "    sum = 0\n",
    "    for i in range(len(romanNumeral) - 1):\n",
    "        left = romanNumeral[i]\n",
    "        right = romanNumeral[i + 1]\n",
    "        if tallies[left] < tallies[right]:\n",
    "            sum -= tallies[left]\n",
    "        else:\n",
    "            sum += tallies[left]\n",
    "    sum += tallies[romanNumeral[-1]]\n",
    "    return sum"
   ]
  },
  {
   "cell_type": "markdown",
   "metadata": {},
   "source": [
    "# Digital Clock with Python"
   ]
  },
  {
   "cell_type": "code",
   "execution_count": 24,
   "metadata": {},
   "outputs": [],
   "source": [
    "from tkinter import Label, Tk\n",
    "import time\n",
    "app_window = Tk()\n",
    "app_window.title(\"Digital Clock\")\n",
    "app_window.geometry(\"420x150\")\n",
    "app_window.resizable(1, 1)\n",
    "\n",
    "text_font = (\"Boulder\", 68, 'bold')\n",
    "background = \"#f2e750\"\n",
    "foreground = \"#363529\"\n",
    "border_width = 25\n",
    "\n",
    "label = Label(app_window, font=text_font, bg=background, fg=foreground, bd=border_width)\n",
    "label.grid(row=0, column=1)\n",
    "\n",
    "def digital_clock():\n",
    "    time_live = time.strftime(\"%H:%M:%S\")\n",
    "    label.config(text=time_live)\n",
    "    label.after(200, digital_clock)\n",
    "\n",
    "digital_clock()\n",
    "app_window.mainloop()"
   ]
  },
  {
   "cell_type": "markdown",
   "metadata": {},
   "source": [
    "# Desktop Notification with Python"
   ]
  },
  {
   "cell_type": "code",
   "execution_count": 1,
   "metadata": {},
   "outputs": [],
   "source": [
    "import time\n",
    "from plyer import notification\n",
    "\n",
    "if __name__ == \"__main__\":\n",
    "    while True:\n",
    "        notification.notify(\n",
    "            title = \"ALERT!!!\",\n",
    "            message = \"Take a break! It has been an hour!\",\n",
    "            timeout = 10\n",
    "        )\n",
    "        time.sleep(3600)"
   ]
  },
  {
   "cell_type": "markdown",
   "metadata": {},
   "source": [
    "# Use Phone Camera with Python"
   ]
  },
  {
   "cell_type": "code",
   "execution_count": 1,
   "metadata": {},
   "outputs": [
    {
     "ename": "KeyboardInterrupt",
     "evalue": "",
     "output_type": "error",
     "traceback": [
      "\u001b[1;31m---------------------------------------------------------------------------\u001b[0m",
      "\u001b[1;31mKeyboardInterrupt\u001b[0m                         Traceback (most recent call last)",
      "Cell \u001b[1;32mIn [1], line 9\u001b[0m\n\u001b[0;32m      7\u001b[0m \u001b[38;5;28;01mif\u001b[39;00m frame \u001b[38;5;129;01mis\u001b[39;00m \u001b[38;5;129;01mnot\u001b[39;00m \u001b[38;5;28;01mNone\u001b[39;00m:\n\u001b[0;32m      8\u001b[0m     cv2\u001b[38;5;241m.\u001b[39mimshow(\u001b[38;5;124m\"\u001b[39m\u001b[38;5;124mFrame\u001b[39m\u001b[38;5;124m\"\u001b[39m, frame)\n\u001b[1;32m----> 9\u001b[0m q \u001b[38;5;241m=\u001b[39m \u001b[43mcv2\u001b[49m\u001b[38;5;241;43m.\u001b[39;49m\u001b[43mwaitKey\u001b[49m\u001b[43m(\u001b[49m\u001b[38;5;241;43m1\u001b[39;49m\u001b[43m)\u001b[49m\n\u001b[0;32m     10\u001b[0m \u001b[38;5;28;01mif\u001b[39;00m q \u001b[38;5;241m==\u001b[39m \u001b[38;5;28mord\u001b[39m(\u001b[38;5;124m\"\u001b[39m\u001b[38;5;124mq\u001b[39m\u001b[38;5;124m\"\u001b[39m):\n\u001b[0;32m     11\u001b[0m     \u001b[38;5;28;01mbreak\u001b[39;00m\n",
      "\u001b[1;31mKeyboardInterrupt\u001b[0m: "
     ]
    }
   ],
   "source": [
    "import cv2\n",
    "import numpy as np\n",
    "url = \":8080/video\"\n",
    "cp = cv2.VideoCapture(url)\n",
    "while (True):\n",
    "    camera, frame = cp.read()\n",
    "    if frame is not None:\n",
    "        cv2.imshow(\"Frame\", frame)\n",
    "    q = cv2.waitKey(1)\n",
    "    if q == ord(\"q\"):\n",
    "        break\n",
    "cv2.destroyAllWindows()"
   ]
  },
  {
   "cell_type": "markdown",
   "metadata": {},
   "source": [
    "# Music Player GUI with Python"
   ]
  },
  {
   "cell_type": "code",
   "execution_count": 6,
   "metadata": {},
   "outputs": [
    {
     "ename": "OSError",
     "evalue": "[WinError 123] The filename, directory name, or volume label syntax is incorrect: ''",
     "output_type": "error",
     "traceback": [
      "\u001b[1;31m---------------------------------------------------------------------------\u001b[0m",
      "\u001b[1;31mOSError\u001b[0m                                   Traceback (most recent call last)",
      "Cell \u001b[1;32mIn [6], line 10\u001b[0m\n\u001b[0;32m      8\u001b[0m music_player\u001b[38;5;241m.\u001b[39mgeometry(\u001b[38;5;124m\"\u001b[39m\u001b[38;5;124m450x350\u001b[39m\u001b[38;5;124m\"\u001b[39m)\n\u001b[0;32m      9\u001b[0m directory \u001b[38;5;241m=\u001b[39m askdirectory()\n\u001b[1;32m---> 10\u001b[0m \u001b[43mos\u001b[49m\u001b[38;5;241;43m.\u001b[39;49m\u001b[43mchdir\u001b[49m\u001b[43m(\u001b[49m\u001b[43mdirectory\u001b[49m\u001b[43m)\u001b[49m\n\u001b[0;32m     11\u001b[0m song_list \u001b[38;5;241m=\u001b[39m os\u001b[38;5;241m.\u001b[39mlistdir()\n\u001b[0;32m     13\u001b[0m play_list \u001b[38;5;241m=\u001b[39m tkr\u001b[38;5;241m.\u001b[39mListbox(music_player, font\u001b[38;5;241m=\u001b[39m\u001b[38;5;124m\"\u001b[39m\u001b[38;5;124mHelvetica 12 bold\u001b[39m\u001b[38;5;124m\"\u001b[39m, bg\u001b[38;5;241m=\u001b[39m\u001b[38;5;124m'\u001b[39m\u001b[38;5;124myellow\u001b[39m\u001b[38;5;124m'\u001b[39m, selectmode\u001b[38;5;241m=\u001b[39mtkr\u001b[38;5;241m.\u001b[39mSINGLE)\n",
      "\u001b[1;31mOSError\u001b[0m: [WinError 123] The filename, directory name, or volume label syntax is incorrect: ''"
     ]
    },
    {
     "ename": "",
     "evalue": "",
     "output_type": "error",
     "traceback": [
      "\u001b[1;31mThe Kernel crashed while executing code in the the current cell or a previous cell. Please review the code in the cell(s) to identify a possible cause of the failure. Click <a href='https://aka.ms/vscodeJupyterKernelCrash'>here</a> for more info. View Jupyter <a href='command:jupyter.viewOutput'>log</a> for further details."
     ]
    }
   ],
   "source": [
    "import pygame\n",
    "import tkinter as tkr\n",
    "from tkinter.filedialog import askdirectory\n",
    "import os\n",
    "\n",
    "music_player = tkr.Tk()\n",
    "music_player.title(\"My Music Player\")\n",
    "music_player.geometry(\"450x350\")\n",
    "directory = askdirectory()\n",
    "os.chdir(directory)\n",
    "song_list = os.listdir()\n",
    "\n",
    "play_list = tkr.Listbox(music_player, font=\"Helvetica 12 bold\", bg='yellow', selectmode=tkr.SINGLE)\n",
    "for item in song_list:\n",
    "    pos = 0\n",
    "    play_list.insert(pos, item)\n",
    "    pos += 1\n",
    "pygame.init()\n",
    "pygame.mixer.init()\n",
    "\n",
    "def play():\n",
    "    pygame.mixer.music.load(play_list.get(tkr.ACTIVE))\n",
    "    var.set(play_list.get(tkr.ACTIVE))\n",
    "    pygame.mixer.music.play()\n",
    "def stop():\n",
    "    pygame.mixer.music.stop()\n",
    "def pause():\n",
    "    pygame.mixer.music.pause()\n",
    "def unpause():\n",
    "    pygame.mixer.music.unpause()\n",
    "Button1 = tkr.Button(music_player, width=5, height=3, font=\"Helvetica 12 bold\", text=\"PLAY\", command=play, bg=\"blue\", fg=\"white\")\n",
    "Button2 = tkr.Button(music_player, width=5, height=3, font=\"Helvetica 12 bold\", text=\"STOP\", command=stop, bg=\"red\", fg=\"white\")\n",
    "Button3 = tkr.Button(music_player, width=5, height=3, font=\"Helvetica 12 bold\", text=\"PAUSE\", command=pause, bg=\"purple\", fg=\"white\")\n",
    "Button4 = tkr.Button(music_player, width=5, height=3, font=\"Helvetica 12 bold\", text=\"UNPAUSE\", command=unpause, bg=\"orange\", fg=\"white\")\n",
    "\n",
    "var = tkr.StringVar() \n",
    "song_title = tkr.Label(music_player, font=\"Helvetica 12 bold\", textvariable=var)\n",
    "\n",
    "song_title.pack()\n",
    "Button1.pack(fill=\"x\")\n",
    "Button2.pack(fill=\"x\")\n",
    "Button3.pack(fill=\"x\")\n",
    "Button4.pack(fill=\"x\")\n",
    "play_list.pack(fill=\"both\", expand=\"yes\")\n",
    "music_player.mainloop()"
   ]
  },
  {
   "cell_type": "markdown",
   "metadata": {},
   "source": [
    "# Game of Life with Python"
   ]
  },
  {
   "cell_type": "code",
   "execution_count": 4,
   "metadata": {},
   "outputs": [
    {
     "ename": "TypeError",
     "evalue": "game_of_life.gameOfLife() missing 2 required positional arguments: 'self' and 'board'",
     "output_type": "error",
     "traceback": [
      "\u001b[1;31m---------------------------------------------------------------------------\u001b[0m",
      "\u001b[1;31mTypeError\u001b[0m                                 Traceback (most recent call last)",
      "Cell \u001b[1;32mIn [4], line 41\u001b[0m\n\u001b[0;32m     38\u001b[0m                 \u001b[38;5;28;01mif\u001b[39;00m copy_board[row][col] \u001b[38;5;241m==\u001b[39m \u001b[38;5;241m0\u001b[39m \u001b[38;5;129;01mand\u001b[39;00m live_neighbors \u001b[38;5;241m==\u001b[39m \u001b[38;5;241m3\u001b[39m:\n\u001b[0;32m     39\u001b[0m                     board[row][col] \u001b[38;5;241m=\u001b[39m \u001b[38;5;241m1\u001b[39m\n\u001b[1;32m---> 41\u001b[0m \u001b[43mgame_of_life\u001b[49m\u001b[38;5;241;43m.\u001b[39;49m\u001b[43mgameOfLife\u001b[49m\u001b[43m(\u001b[49m\u001b[43m)\u001b[49m\n",
      "\u001b[1;31mTypeError\u001b[0m: game_of_life.gameOfLife() missing 2 required positional arguments: 'self' and 'board'"
     ]
    }
   ],
   "source": [
    "from typing import List\n",
    "\n",
    "class game_of_life:\n",
    "    def gameOfLife(self, board: List[List[int]]) -> None:\n",
    "        \"\"\"\n",
    "        Do not return anything, modify board in-place instead.\n",
    "        \"\"\"\n",
    "\n",
    "        # Neighbors array to find 8 neighboring cells for a given cell\n",
    "        neighbors = [(1,0), (1,-1), (0,-1), (-1,-1), (-1,0), (-1,1), (0,1), (1,1)]\n",
    "\n",
    "        rows = len(board)\n",
    "        cols = len(board[0])\n",
    "\n",
    "        # Create a copy of the original board\n",
    "        copy_board = [[board[row][col] for col in range(cols)] for row in range(rows)]\n",
    "\n",
    "        # Iterate through board cell by cell.\n",
    "        for row in range(rows):\n",
    "            for col in range(cols):\n",
    "\n",
    "                # For each cell count the number of live neighbors.\n",
    "                live_neighbors = 0\n",
    "                for neighbor in neighbors:\n",
    "\n",
    "                    r = (row + neighbor[0])\n",
    "                    c = (col + neighbor[1])\n",
    "\n",
    "                    # Check the validity of the neighboring cell and if it was originally a live cell.\n",
    "                    # The evaluation is done against the copy, since that is never updated.\n",
    "                    if (r < rows and r >= 0) and (c < cols and c >= 0) and (copy_board[r][c] == 1):\n",
    "                        live_neighbors += 1\n",
    "\n",
    "                # Rule 1 or Rule 3        \n",
    "                if copy_board[row][col] == 1 and (live_neighbors < 2 or live_neighbors > 3):\n",
    "                    board[row][col] = 0\n",
    "                # Rule 4\n",
    "                if copy_board[row][col] == 0 and live_neighbors == 3:\n",
    "                    board[row][col] = 1"
   ]
  },
  {
   "cell_type": "markdown",
   "metadata": {},
   "source": [
    "# Extract Text From Videos using Python"
   ]
  },
  {
   "cell_type": "code",
   "execution_count": 6,
   "metadata": {},
   "outputs": [
    {
     "name": "stdout",
     "output_type": "stream",
     "text": [
      "The video is 3120 seconds\n",
      "Moviepy - Running:\n",
      ">>> \"+ \" \".join(cmd)\n",
      "Moviepy - Command returned an error\n"
     ]
    },
    {
     "ename": "OSError",
     "evalue": "ffmpeg version 4.2.2 Copyright (c) 2000-2019 the FFmpeg developers\r\n  built with gcc 9.2.1 (GCC) 20200122\r\n  configuration: --enable-gpl --enable-version3 --enable-sdl2 --enable-fontconfig --enable-gnutls --enable-iconv --enable-libass --enable-libdav1d --enable-libbluray --enable-libfreetype --enable-libmp3lame --enable-libopencore-amrnb --enable-libopencore-amrwb --enable-libopenjpeg --enable-libopus --enable-libshine --enable-libsnappy --enable-libsoxr --enable-libtheora --enable-libtwolame --enable-libvpx --enable-libwavpack --enable-libwebp --enable-libx264 --enable-libx265 --enable-libxml2 --enable-libzimg --enable-lzma --enable-zlib --enable-gmp --enable-libvidstab --enable-libvorbis --enable-libvo-amrwbenc --enable-libmysofa --enable-libspeex --enable-libxvid --enable-libaom --enable-libmfx --enable-amf --enable-ffnvcodec --enable-cuvid --enable-d3d11va --enable-nvenc --enable-nvdec --enable-dxva2 --enable-avisynth --enable-libopenmpt\r\n  libavutil      56. 31.100 / 56. 31.100\r\n  libavcodec     58. 54.100 / 58. 54.100\r\n  libavformat    58. 29.100 / 58. 29.100\r\n  libavdevice    58.  8.100 / 58.  8.100\r\n  libavfilter     7. 57.100 /  7. 57.100\r\n  libswscale      5.  5.100 /  5.  5.100\r\n  libswresample   3.  5.100 /  3.  5.100\r\n  libpostproc    55.  5.100 / 55.  5.100\r\nvideorl.mp4: No such file or directory\r\n",
     "output_type": "error",
     "traceback": [
      "\u001b[1;31m---------------------------------------------------------------------------\u001b[0m",
      "\u001b[1;31mOSError\u001b[0m                                   Traceback (most recent call last)",
      "Cell \u001b[1;32mIn [6], line 11\u001b[0m\n\u001b[0;32m      9\u001b[0m diz\u001b[38;5;241m=\u001b[39m{}\n\u001b[0;32m     10\u001b[0m \u001b[38;5;28;01mfor\u001b[39;00m i \u001b[38;5;129;01min\u001b[39;00m \u001b[38;5;28mrange\u001b[39m(\u001b[38;5;28mlen\u001b[39m(l)\u001b[38;5;241m-\u001b[39m\u001b[38;5;241m1\u001b[39m):\n\u001b[1;32m---> 11\u001b[0m     \u001b[43mffmpeg_extract_subclip\u001b[49m\u001b[43m(\u001b[49m\u001b[38;5;124;43m\"\u001b[39;49m\u001b[38;5;124;43mvideorl.mp4\u001b[39;49m\u001b[38;5;124;43m\"\u001b[39;49m\u001b[43m,\u001b[49m\u001b[43m \u001b[49m\u001b[43ml\u001b[49m\u001b[43m[\u001b[49m\u001b[43mi\u001b[49m\u001b[43m]\u001b[49m\u001b[38;5;241;43m-\u001b[39;49m\u001b[38;5;241;43m2\u001b[39;49m\u001b[38;5;241;43m*\u001b[39;49m\u001b[43m(\u001b[49m\u001b[43ml\u001b[49m\u001b[43m[\u001b[49m\u001b[43mi\u001b[49m\u001b[43m]\u001b[49m\u001b[38;5;241;43m!=\u001b[39;49m\u001b[38;5;241;43m0\u001b[39;49m\u001b[43m)\u001b[49m\u001b[43m,\u001b[49m\u001b[43m \u001b[49m\u001b[43ml\u001b[49m\u001b[43m[\u001b[49m\u001b[43mi\u001b[49m\u001b[38;5;241;43m+\u001b[39;49m\u001b[38;5;241;43m1\u001b[39;49m\u001b[43m]\u001b[49m\u001b[43m,\u001b[49m\u001b[43m \u001b[49m\u001b[43mtargetname\u001b[49m\u001b[38;5;241;43m=\u001b[39;49m\u001b[38;5;124;43m\"\u001b[39;49m\u001b[38;5;124;43mchunks/cut\u001b[39;49m\u001b[38;5;132;43;01m{}\u001b[39;49;00m\u001b[38;5;124;43m.mp4\u001b[39;49m\u001b[38;5;124;43m\"\u001b[39;49m\u001b[38;5;241;43m.\u001b[39;49m\u001b[43mformat\u001b[49m\u001b[43m(\u001b[49m\u001b[43mi\u001b[49m\u001b[38;5;241;43m+\u001b[39;49m\u001b[38;5;241;43m1\u001b[39;49m\u001b[43m)\u001b[49m\u001b[43m)\u001b[49m\n\u001b[0;32m     12\u001b[0m     clip \u001b[38;5;241m=\u001b[39m mp\u001b[38;5;241m.\u001b[39mVideoFileClip(\u001b[38;5;124mr\u001b[39m\u001b[38;5;124m\"\u001b[39m\u001b[38;5;124mchunks/cut\u001b[39m\u001b[38;5;132;01m{}\u001b[39;00m\u001b[38;5;124m.mp4\u001b[39m\u001b[38;5;124m\"\u001b[39m\u001b[38;5;241m.\u001b[39mformat(i\u001b[38;5;241m+\u001b[39m\u001b[38;5;241m1\u001b[39m)) \n\u001b[0;32m     13\u001b[0m     clip\u001b[38;5;241m.\u001b[39maudio\u001b[38;5;241m.\u001b[39mwrite_audiofile(\u001b[38;5;124mr\u001b[39m\u001b[38;5;124m\"\u001b[39m\u001b[38;5;124mconverted/converted\u001b[39m\u001b[38;5;132;01m{}\u001b[39;00m\u001b[38;5;124m.wav\u001b[39m\u001b[38;5;124m\"\u001b[39m\u001b[38;5;241m.\u001b[39mformat(i\u001b[38;5;241m+\u001b[39m\u001b[38;5;241m1\u001b[39m))\n",
      "File \u001b[1;32m~\\AppData\\Local\\Packages\\PythonSoftwareFoundation.Python.3.10_qbz5n2kfra8p0\\LocalCache\\local-packages\\Python310\\site-packages\\moviepy\\video\\io\\ffmpeg_tools.py:41\u001b[0m, in \u001b[0;36mffmpeg_extract_subclip\u001b[1;34m(filename, t1, t2, targetname)\u001b[0m\n\u001b[0;32m     33\u001b[0m     targetname \u001b[39m=\u001b[39m \u001b[39m\"\u001b[39m\u001b[39m%s\u001b[39;00m\u001b[39mSUB\u001b[39m\u001b[39m%d\u001b[39;00m\u001b[39m_\u001b[39m\u001b[39m%d\u001b[39;00m\u001b[39m.\u001b[39m\u001b[39m%s\u001b[39;00m\u001b[39m\"\u001b[39m \u001b[39m%\u001b[39m (name, T1, T2, ext)\n\u001b[0;32m     35\u001b[0m cmd \u001b[39m=\u001b[39m [get_setting(\u001b[39m\"\u001b[39m\u001b[39mFFMPEG_BINARY\u001b[39m\u001b[39m\"\u001b[39m),\u001b[39m\"\u001b[39m\u001b[39m-y\u001b[39m\u001b[39m\"\u001b[39m,\n\u001b[0;32m     36\u001b[0m        \u001b[39m\"\u001b[39m\u001b[39m-ss\u001b[39m\u001b[39m\"\u001b[39m, \u001b[39m\"\u001b[39m\u001b[39m%0.2f\u001b[39;00m\u001b[39m\"\u001b[39m\u001b[39m%\u001b[39mt1,\n\u001b[0;32m     37\u001b[0m        \u001b[39m\"\u001b[39m\u001b[39m-i\u001b[39m\u001b[39m\"\u001b[39m, filename,\n\u001b[0;32m     38\u001b[0m        \u001b[39m\"\u001b[39m\u001b[39m-t\u001b[39m\u001b[39m\"\u001b[39m, \u001b[39m\"\u001b[39m\u001b[39m%0.2f\u001b[39;00m\u001b[39m\"\u001b[39m\u001b[39m%\u001b[39m(t2\u001b[39m-\u001b[39mt1),\n\u001b[0;32m     39\u001b[0m        \u001b[39m\"\u001b[39m\u001b[39m-map\u001b[39m\u001b[39m\"\u001b[39m, \u001b[39m\"\u001b[39m\u001b[39m0\u001b[39m\u001b[39m\"\u001b[39m, \u001b[39m\"\u001b[39m\u001b[39m-vcodec\u001b[39m\u001b[39m\"\u001b[39m, \u001b[39m\"\u001b[39m\u001b[39mcopy\u001b[39m\u001b[39m\"\u001b[39m, \u001b[39m\"\u001b[39m\u001b[39m-acodec\u001b[39m\u001b[39m\"\u001b[39m, \u001b[39m\"\u001b[39m\u001b[39mcopy\u001b[39m\u001b[39m\"\u001b[39m, targetname]\n\u001b[1;32m---> 41\u001b[0m subprocess_call(cmd)\n",
      "File \u001b[1;32m~\\AppData\\Local\\Packages\\PythonSoftwareFoundation.Python.3.10_qbz5n2kfra8p0\\LocalCache\\local-packages\\Python310\\site-packages\\moviepy\\tools.py:54\u001b[0m, in \u001b[0;36msubprocess_call\u001b[1;34m(cmd, logger, errorprint)\u001b[0m\n\u001b[0;32m     52\u001b[0m     \u001b[39mif\u001b[39;00m errorprint:\n\u001b[0;32m     53\u001b[0m         logger(message\u001b[39m=\u001b[39m\u001b[39m'\u001b[39m\u001b[39mMoviepy - Command returned an error\u001b[39m\u001b[39m'\u001b[39m)\n\u001b[1;32m---> 54\u001b[0m     \u001b[39mraise\u001b[39;00m \u001b[39mIOError\u001b[39;00m(err\u001b[39m.\u001b[39mdecode(\u001b[39m'\u001b[39m\u001b[39mutf8\u001b[39m\u001b[39m'\u001b[39m))\n\u001b[0;32m     55\u001b[0m \u001b[39melse\u001b[39;00m:\n\u001b[0;32m     56\u001b[0m     logger(message\u001b[39m=\u001b[39m\u001b[39m'\u001b[39m\u001b[39mMoviepy - Command successful\u001b[39m\u001b[39m'\u001b[39m)\n",
      "\u001b[1;31mOSError\u001b[0m: ffmpeg version 4.2.2 Copyright (c) 2000-2019 the FFmpeg developers\r\n  built with gcc 9.2.1 (GCC) 20200122\r\n  configuration: --enable-gpl --enable-version3 --enable-sdl2 --enable-fontconfig --enable-gnutls --enable-iconv --enable-libass --enable-libdav1d --enable-libbluray --enable-libfreetype --enable-libmp3lame --enable-libopencore-amrnb --enable-libopencore-amrwb --enable-libopenjpeg --enable-libopus --enable-libshine --enable-libsnappy --enable-libsoxr --enable-libtheora --enable-libtwolame --enable-libvpx --enable-libwavpack --enable-libwebp --enable-libx264 --enable-libx265 --enable-libxml2 --enable-libzimg --enable-lzma --enable-zlib --enable-gmp --enable-libvidstab --enable-libvorbis --enable-libvo-amrwbenc --enable-libmysofa --enable-libspeex --enable-libxvid --enable-libaom --enable-libmfx --enable-amf --enable-ffnvcodec --enable-cuvid --enable-d3d11va --enable-nvenc --enable-nvdec --enable-dxva2 --enable-avisynth --enable-libopenmpt\r\n  libavutil      56. 31.100 / 56. 31.100\r\n  libavcodec     58. 54.100 / 58. 54.100\r\n  libavformat    58. 29.100 / 58. 29.100\r\n  libavdevice    58.  8.100 / 58.  8.100\r\n  libavfilter     7. 57.100 /  7. 57.100\r\n  libswscale      5.  5.100 /  5.  5.100\r\n  libswresample   3.  5.100 /  3.  5.100\r\n  libpostproc    55.  5.100 / 55.  5.100\r\nvideorl.mp4: No such file or directory\r\n"
     ]
    }
   ],
   "source": [
    "import speech_recognition as sr \n",
    "import moviepy.editor as mp\n",
    "from moviepy.video.io.ffmpeg_tools import ffmpeg_extract_subclip\n",
    "\n",
    "num_seconds_video= 52*60\n",
    "print(\"The video is {} seconds\".format(num_seconds_video))\n",
    "l=list(range(0,num_seconds_video+1,60))\n",
    "\n",
    "diz={}\n",
    "for i in range(len(l)-1):\n",
    "    ffmpeg_extract_subclip(\"videorl.mp4\", l[i]-2*(l[i]!=0), l[i+1], targetname=\"chunks/cut{}.mp4\".format(i+1))\n",
    "    clip = mp.VideoFileClip(r\"chunks/cut{}.mp4\".format(i+1)) \n",
    "    clip.audio.write_audiofile(r\"converted/converted{}.wav\".format(i+1))\n",
    "    r = sr.Recognizer()\n",
    "    audio = sr.AudioFile(\"converted/converted{}.wav\".format(i+1))\n",
    "    with audio as source:\n",
    "      r.adjust_for_ambient_noise(source)  \n",
    "      audio_file = r.record(source)\n",
    "    result = r.recognize_google(audio_file)\n",
    "    diz['chunk{}'.format(i+1)]=result\n",
    "l_chunks=[diz['chunk{}'.format(i+1)] for i in range(len(diz))]\n",
    "text='\\n'.join(l_chunks)\n",
    "\n",
    "with open('recognized.txt',mode ='w') as file: \n",
    "   file.write(\"Recognized Speech:\") \n",
    "   file.write(\"\\n\") \n",
    "   file.write(text) \n",
    "   print(\"Finally ready!\")"
   ]
  },
  {
   "cell_type": "markdown",
   "metadata": {},
   "source": [
    "# Create a Game with Python"
   ]
  },
  {
   "cell_type": "code",
   "execution_count": 7,
   "metadata": {},
   "outputs": [],
   "source": [
    "from turtle import *\n",
    "state = {'turn': 0}\n",
    "def spinner():\n",
    "    clear()\n",
    "    angle = state['turn']/10\n",
    "    right(angle)\n",
    "    forward(100)\n",
    "    dot(120, 'red')\n",
    "    back(100)\n",
    "    right(120)\n",
    "    forward(100)\n",
    "    dot(120, 'green')\n",
    "    back(100)\n",
    "    right(120)\n",
    "    forward(100)\n",
    "    dot(120, 'blue')\n",
    "    back(100)\n",
    "    right(120)\n",
    "    update()\n",
    "def animate():\n",
    "    if state['turn']>0:\n",
    "        state['turn']-=1\n",
    "\n",
    "    spinner()\n",
    "    ontimer(animate, 20)\n",
    "def flick():\n",
    "    state['turn']+=10\n",
    "\n",
    "setup(420, 420, 370, 0)\n",
    "hideturtle()\n",
    "tracer(False)\n",
    "width(20)\n",
    "onkey(flick, 'space')\n",
    "listen()\n",
    "animate()\n",
    "done()"
   ]
  },
  {
   "cell_type": "markdown",
   "metadata": {},
   "source": [
    "# Spelling Correction with Python"
   ]
  },
  {
   "cell_type": "code",
   "execution_count": 6,
   "metadata": {},
   "outputs": [
    {
     "name": "stdout",
     "output_type": "stream",
     "text": [
      "Wrong words : ['Data Scence', 'Mahine Learnin', 'Computeer Scence']\n",
      "Corrected Words are :\n",
      "Data Science Machine Learning Computer Science "
     ]
    }
   ],
   "source": [
    "from textblob import TextBlob\n",
    "words = [\"Data Scence\", \"Mahine Learnin\", \"Computeer Scence\"]\n",
    "corrected_words = []\n",
    "for i in words:\n",
    "    corrected_words.append(TextBlob(i))\n",
    "print(\"Wrong words :\", words)\n",
    "print(\"Corrected Words are :\")\n",
    "for i in corrected_words:\n",
    "    print(i.correct(), end=\" \")"
   ]
  },
  {
   "cell_type": "markdown",
   "metadata": {},
   "source": [
    "# Turtle Graphics with Python"
   ]
  },
  {
   "cell_type": "code",
   "execution_count": 8,
   "metadata": {},
   "outputs": [
    {
     "ename": "KeyboardInterrupt",
     "evalue": "",
     "output_type": "error",
     "traceback": [
      "\u001b[1;31m---------------------------------------------------------------------------\u001b[0m",
      "\u001b[1;31mKeyboardInterrupt\u001b[0m                         Traceback (most recent call last)",
      "Cell \u001b[1;32mIn [8], line 209\u001b[0m\n\u001b[0;32m    205\u001b[0m         roo\u001b[38;5;241m.\u001b[39mpensize(\u001b[38;5;241m2\u001b[39m)\n\u001b[0;32m    206\u001b[0m         roo\u001b[38;5;241m.\u001b[39mbackward(l)\n\u001b[1;32m--> 209\u001b[0m \u001b[43mdraw\u001b[49m\u001b[43m(\u001b[49m\u001b[38;5;241;43m60\u001b[39;49m\u001b[43m)\u001b[49m\n\u001b[0;32m    211\u001b[0m roo\u001b[38;5;241m.\u001b[39mright(\u001b[38;5;241m90\u001b[39m)\n\u001b[0;32m    212\u001b[0m roo\u001b[38;5;241m.\u001b[39mspeed(\u001b[38;5;241m2000\u001b[39m)\n",
      "Cell \u001b[1;32mIn [8], line 203\u001b[0m, in \u001b[0;36mdraw\u001b[1;34m(l)\u001b[0m\n\u001b[0;32m    201\u001b[0m draw(\u001b[38;5;241m6\u001b[39m \u001b[38;5;241m*\u001b[39m l \u001b[38;5;241m/\u001b[39m \u001b[38;5;241m7\u001b[39m)\n\u001b[0;32m    202\u001b[0m roo\u001b[38;5;241m.\u001b[39mright(\u001b[38;5;241m60\u001b[39m)\n\u001b[1;32m--> 203\u001b[0m \u001b[43mdraw\u001b[49m\u001b[43m(\u001b[49m\u001b[38;5;241;43m6\u001b[39;49m\u001b[43m \u001b[49m\u001b[38;5;241;43m*\u001b[39;49m\u001b[43m \u001b[49m\u001b[43ml\u001b[49m\u001b[43m \u001b[49m\u001b[38;5;241;43m/\u001b[39;49m\u001b[43m \u001b[49m\u001b[38;5;241;43m7\u001b[39;49m\u001b[43m)\u001b[49m\n\u001b[0;32m    204\u001b[0m roo\u001b[38;5;241m.\u001b[39mleft(\u001b[38;5;241m30\u001b[39m)\n\u001b[0;32m    205\u001b[0m roo\u001b[38;5;241m.\u001b[39mpensize(\u001b[38;5;241m2\u001b[39m)\n",
      "Cell \u001b[1;32mIn [8], line 203\u001b[0m, in \u001b[0;36mdraw\u001b[1;34m(l)\u001b[0m\n\u001b[0;32m    201\u001b[0m draw(\u001b[38;5;241m6\u001b[39m \u001b[38;5;241m*\u001b[39m l \u001b[38;5;241m/\u001b[39m \u001b[38;5;241m7\u001b[39m)\n\u001b[0;32m    202\u001b[0m roo\u001b[38;5;241m.\u001b[39mright(\u001b[38;5;241m60\u001b[39m)\n\u001b[1;32m--> 203\u001b[0m \u001b[43mdraw\u001b[49m\u001b[43m(\u001b[49m\u001b[38;5;241;43m6\u001b[39;49m\u001b[43m \u001b[49m\u001b[38;5;241;43m*\u001b[39;49m\u001b[43m \u001b[49m\u001b[43ml\u001b[49m\u001b[43m \u001b[49m\u001b[38;5;241;43m/\u001b[39;49m\u001b[43m \u001b[49m\u001b[38;5;241;43m7\u001b[39;49m\u001b[43m)\u001b[49m\n\u001b[0;32m    204\u001b[0m roo\u001b[38;5;241m.\u001b[39mleft(\u001b[38;5;241m30\u001b[39m)\n\u001b[0;32m    205\u001b[0m roo\u001b[38;5;241m.\u001b[39mpensize(\u001b[38;5;241m2\u001b[39m)\n",
      "Cell \u001b[1;32mIn [8], line 203\u001b[0m, in \u001b[0;36mdraw\u001b[1;34m(l)\u001b[0m\n\u001b[0;32m    201\u001b[0m draw(\u001b[38;5;241m6\u001b[39m \u001b[38;5;241m*\u001b[39m l \u001b[38;5;241m/\u001b[39m \u001b[38;5;241m7\u001b[39m)\n\u001b[0;32m    202\u001b[0m roo\u001b[38;5;241m.\u001b[39mright(\u001b[38;5;241m60\u001b[39m)\n\u001b[1;32m--> 203\u001b[0m \u001b[43mdraw\u001b[49m\u001b[43m(\u001b[49m\u001b[38;5;241;43m6\u001b[39;49m\u001b[43m \u001b[49m\u001b[38;5;241;43m*\u001b[39;49m\u001b[43m \u001b[49m\u001b[43ml\u001b[49m\u001b[43m \u001b[49m\u001b[38;5;241;43m/\u001b[39;49m\u001b[43m \u001b[49m\u001b[38;5;241;43m7\u001b[39;49m\u001b[43m)\u001b[49m\n\u001b[0;32m    204\u001b[0m roo\u001b[38;5;241m.\u001b[39mleft(\u001b[38;5;241m30\u001b[39m)\n\u001b[0;32m    205\u001b[0m roo\u001b[38;5;241m.\u001b[39mpensize(\u001b[38;5;241m2\u001b[39m)\n",
      "Cell \u001b[1;32mIn [8], line 201\u001b[0m, in \u001b[0;36mdraw\u001b[1;34m(l)\u001b[0m\n\u001b[0;32m    199\u001b[0m roo\u001b[38;5;241m.\u001b[39mforward(l)\n\u001b[0;32m    200\u001b[0m roo\u001b[38;5;241m.\u001b[39mleft(\u001b[38;5;241m30\u001b[39m)\n\u001b[1;32m--> 201\u001b[0m \u001b[43mdraw\u001b[49m\u001b[43m(\u001b[49m\u001b[38;5;241;43m6\u001b[39;49m\u001b[43m \u001b[49m\u001b[38;5;241;43m*\u001b[39;49m\u001b[43m \u001b[49m\u001b[43ml\u001b[49m\u001b[43m \u001b[49m\u001b[38;5;241;43m/\u001b[39;49m\u001b[43m \u001b[49m\u001b[38;5;241;43m7\u001b[39;49m\u001b[43m)\u001b[49m\n\u001b[0;32m    202\u001b[0m roo\u001b[38;5;241m.\u001b[39mright(\u001b[38;5;241m60\u001b[39m)\n\u001b[0;32m    203\u001b[0m draw(\u001b[38;5;241m6\u001b[39m \u001b[38;5;241m*\u001b[39m l \u001b[38;5;241m/\u001b[39m \u001b[38;5;241m7\u001b[39m)\n",
      "Cell \u001b[1;32mIn [8], line 201\u001b[0m, in \u001b[0;36mdraw\u001b[1;34m(l)\u001b[0m\n\u001b[0;32m    199\u001b[0m roo\u001b[38;5;241m.\u001b[39mforward(l)\n\u001b[0;32m    200\u001b[0m roo\u001b[38;5;241m.\u001b[39mleft(\u001b[38;5;241m30\u001b[39m)\n\u001b[1;32m--> 201\u001b[0m \u001b[43mdraw\u001b[49m\u001b[43m(\u001b[49m\u001b[38;5;241;43m6\u001b[39;49m\u001b[43m \u001b[49m\u001b[38;5;241;43m*\u001b[39;49m\u001b[43m \u001b[49m\u001b[43ml\u001b[49m\u001b[43m \u001b[49m\u001b[38;5;241;43m/\u001b[39;49m\u001b[43m \u001b[49m\u001b[38;5;241;43m7\u001b[39;49m\u001b[43m)\u001b[49m\n\u001b[0;32m    202\u001b[0m roo\u001b[38;5;241m.\u001b[39mright(\u001b[38;5;241m60\u001b[39m)\n\u001b[0;32m    203\u001b[0m draw(\u001b[38;5;241m6\u001b[39m \u001b[38;5;241m*\u001b[39m l \u001b[38;5;241m/\u001b[39m \u001b[38;5;241m7\u001b[39m)\n",
      "Cell \u001b[1;32mIn [8], line 203\u001b[0m, in \u001b[0;36mdraw\u001b[1;34m(l)\u001b[0m\n\u001b[0;32m    201\u001b[0m draw(\u001b[38;5;241m6\u001b[39m \u001b[38;5;241m*\u001b[39m l \u001b[38;5;241m/\u001b[39m \u001b[38;5;241m7\u001b[39m)\n\u001b[0;32m    202\u001b[0m roo\u001b[38;5;241m.\u001b[39mright(\u001b[38;5;241m60\u001b[39m)\n\u001b[1;32m--> 203\u001b[0m \u001b[43mdraw\u001b[49m\u001b[43m(\u001b[49m\u001b[38;5;241;43m6\u001b[39;49m\u001b[43m \u001b[49m\u001b[38;5;241;43m*\u001b[39;49m\u001b[43m \u001b[49m\u001b[43ml\u001b[49m\u001b[43m \u001b[49m\u001b[38;5;241;43m/\u001b[39;49m\u001b[43m \u001b[49m\u001b[38;5;241;43m7\u001b[39;49m\u001b[43m)\u001b[49m\n\u001b[0;32m    204\u001b[0m roo\u001b[38;5;241m.\u001b[39mleft(\u001b[38;5;241m30\u001b[39m)\n\u001b[0;32m    205\u001b[0m roo\u001b[38;5;241m.\u001b[39mpensize(\u001b[38;5;241m2\u001b[39m)\n",
      "Cell \u001b[1;32mIn [8], line 203\u001b[0m, in \u001b[0;36mdraw\u001b[1;34m(l)\u001b[0m\n\u001b[0;32m    201\u001b[0m draw(\u001b[38;5;241m6\u001b[39m \u001b[38;5;241m*\u001b[39m l \u001b[38;5;241m/\u001b[39m \u001b[38;5;241m7\u001b[39m)\n\u001b[0;32m    202\u001b[0m roo\u001b[38;5;241m.\u001b[39mright(\u001b[38;5;241m60\u001b[39m)\n\u001b[1;32m--> 203\u001b[0m \u001b[43mdraw\u001b[49m\u001b[43m(\u001b[49m\u001b[38;5;241;43m6\u001b[39;49m\u001b[43m \u001b[49m\u001b[38;5;241;43m*\u001b[39;49m\u001b[43m \u001b[49m\u001b[43ml\u001b[49m\u001b[43m \u001b[49m\u001b[38;5;241;43m/\u001b[39;49m\u001b[43m \u001b[49m\u001b[38;5;241;43m7\u001b[39;49m\u001b[43m)\u001b[49m\n\u001b[0;32m    204\u001b[0m roo\u001b[38;5;241m.\u001b[39mleft(\u001b[38;5;241m30\u001b[39m)\n\u001b[0;32m    205\u001b[0m roo\u001b[38;5;241m.\u001b[39mpensize(\u001b[38;5;241m2\u001b[39m)\n",
      "Cell \u001b[1;32mIn [8], line 203\u001b[0m, in \u001b[0;36mdraw\u001b[1;34m(l)\u001b[0m\n\u001b[0;32m    201\u001b[0m draw(\u001b[38;5;241m6\u001b[39m \u001b[38;5;241m*\u001b[39m l \u001b[38;5;241m/\u001b[39m \u001b[38;5;241m7\u001b[39m)\n\u001b[0;32m    202\u001b[0m roo\u001b[38;5;241m.\u001b[39mright(\u001b[38;5;241m60\u001b[39m)\n\u001b[1;32m--> 203\u001b[0m \u001b[43mdraw\u001b[49m\u001b[43m(\u001b[49m\u001b[38;5;241;43m6\u001b[39;49m\u001b[43m \u001b[49m\u001b[38;5;241;43m*\u001b[39;49m\u001b[43m \u001b[49m\u001b[43ml\u001b[49m\u001b[43m \u001b[49m\u001b[38;5;241;43m/\u001b[39;49m\u001b[43m \u001b[49m\u001b[38;5;241;43m7\u001b[39;49m\u001b[43m)\u001b[49m\n\u001b[0;32m    204\u001b[0m roo\u001b[38;5;241m.\u001b[39mleft(\u001b[38;5;241m30\u001b[39m)\n\u001b[0;32m    205\u001b[0m roo\u001b[38;5;241m.\u001b[39mpensize(\u001b[38;5;241m2\u001b[39m)\n",
      "Cell \u001b[1;32mIn [8], line 201\u001b[0m, in \u001b[0;36mdraw\u001b[1;34m(l)\u001b[0m\n\u001b[0;32m    199\u001b[0m roo\u001b[38;5;241m.\u001b[39mforward(l)\n\u001b[0;32m    200\u001b[0m roo\u001b[38;5;241m.\u001b[39mleft(\u001b[38;5;241m30\u001b[39m)\n\u001b[1;32m--> 201\u001b[0m \u001b[43mdraw\u001b[49m\u001b[43m(\u001b[49m\u001b[38;5;241;43m6\u001b[39;49m\u001b[43m \u001b[49m\u001b[38;5;241;43m*\u001b[39;49m\u001b[43m \u001b[49m\u001b[43ml\u001b[49m\u001b[43m \u001b[49m\u001b[38;5;241;43m/\u001b[39;49m\u001b[43m \u001b[49m\u001b[38;5;241;43m7\u001b[39;49m\u001b[43m)\u001b[49m\n\u001b[0;32m    202\u001b[0m roo\u001b[38;5;241m.\u001b[39mright(\u001b[38;5;241m60\u001b[39m)\n\u001b[0;32m    203\u001b[0m draw(\u001b[38;5;241m6\u001b[39m \u001b[38;5;241m*\u001b[39m l \u001b[38;5;241m/\u001b[39m \u001b[38;5;241m7\u001b[39m)\n",
      "Cell \u001b[1;32mIn [8], line 203\u001b[0m, in \u001b[0;36mdraw\u001b[1;34m(l)\u001b[0m\n\u001b[0;32m    201\u001b[0m draw(\u001b[38;5;241m6\u001b[39m \u001b[38;5;241m*\u001b[39m l \u001b[38;5;241m/\u001b[39m \u001b[38;5;241m7\u001b[39m)\n\u001b[0;32m    202\u001b[0m roo\u001b[38;5;241m.\u001b[39mright(\u001b[38;5;241m60\u001b[39m)\n\u001b[1;32m--> 203\u001b[0m \u001b[43mdraw\u001b[49m\u001b[43m(\u001b[49m\u001b[38;5;241;43m6\u001b[39;49m\u001b[43m \u001b[49m\u001b[38;5;241;43m*\u001b[39;49m\u001b[43m \u001b[49m\u001b[43ml\u001b[49m\u001b[43m \u001b[49m\u001b[38;5;241;43m/\u001b[39;49m\u001b[43m \u001b[49m\u001b[38;5;241;43m7\u001b[39;49m\u001b[43m)\u001b[49m\n\u001b[0;32m    204\u001b[0m roo\u001b[38;5;241m.\u001b[39mleft(\u001b[38;5;241m30\u001b[39m)\n\u001b[0;32m    205\u001b[0m roo\u001b[38;5;241m.\u001b[39mpensize(\u001b[38;5;241m2\u001b[39m)\n",
      "Cell \u001b[1;32mIn [8], line 203\u001b[0m, in \u001b[0;36mdraw\u001b[1;34m(l)\u001b[0m\n\u001b[0;32m    201\u001b[0m draw(\u001b[38;5;241m6\u001b[39m \u001b[38;5;241m*\u001b[39m l \u001b[38;5;241m/\u001b[39m \u001b[38;5;241m7\u001b[39m)\n\u001b[0;32m    202\u001b[0m roo\u001b[38;5;241m.\u001b[39mright(\u001b[38;5;241m60\u001b[39m)\n\u001b[1;32m--> 203\u001b[0m \u001b[43mdraw\u001b[49m\u001b[43m(\u001b[49m\u001b[38;5;241;43m6\u001b[39;49m\u001b[43m \u001b[49m\u001b[38;5;241;43m*\u001b[39;49m\u001b[43m \u001b[49m\u001b[43ml\u001b[49m\u001b[43m \u001b[49m\u001b[38;5;241;43m/\u001b[39;49m\u001b[43m \u001b[49m\u001b[38;5;241;43m7\u001b[39;49m\u001b[43m)\u001b[49m\n\u001b[0;32m    204\u001b[0m roo\u001b[38;5;241m.\u001b[39mleft(\u001b[38;5;241m30\u001b[39m)\n\u001b[0;32m    205\u001b[0m roo\u001b[38;5;241m.\u001b[39mpensize(\u001b[38;5;241m2\u001b[39m)\n",
      "Cell \u001b[1;32mIn [8], line 197\u001b[0m, in \u001b[0;36mdraw\u001b[1;34m(l)\u001b[0m\n\u001b[0;32m    194\u001b[0m     \u001b[38;5;28;01mreturn\u001b[39;00m\n\u001b[0;32m    195\u001b[0m \u001b[38;5;28;01melse\u001b[39;00m:\n\u001b[1;32m--> 197\u001b[0m     \u001b[43mroo\u001b[49m\u001b[38;5;241;43m.\u001b[39;49m\u001b[43mpensize\u001b[49m\u001b[43m(\u001b[49m\u001b[38;5;241;43m2\u001b[39;49m\u001b[43m)\u001b[49m\n\u001b[0;32m    198\u001b[0m     roo\u001b[38;5;241m.\u001b[39mpencolor(\u001b[38;5;124m\"\u001b[39m\u001b[38;5;124mcyan\u001b[39m\u001b[38;5;124m\"\u001b[39m)  \u001b[38;5;66;03m# cyan\u001b[39;00m\n\u001b[0;32m    199\u001b[0m     roo\u001b[38;5;241m.\u001b[39mforward(l)\n",
      "File \u001b[1;32mC:\\Program Files\\WindowsApps\\PythonSoftwareFoundation.Python.3.10_3.10.2032.0_x64__qbz5n2kfra8p0\\lib\\turtle.py:2093\u001b[0m, in \u001b[0;36mTPen.pensize\u001b[1;34m(self, width)\u001b[0m\n\u001b[0;32m   2091\u001b[0m \u001b[39mif\u001b[39;00m width \u001b[39mis\u001b[39;00m \u001b[39mNone\u001b[39;00m:\n\u001b[0;32m   2092\u001b[0m     \u001b[39mreturn\u001b[39;00m \u001b[39mself\u001b[39m\u001b[39m.\u001b[39m_pensize\n\u001b[1;32m-> 2093\u001b[0m \u001b[39mself\u001b[39;49m\u001b[39m.\u001b[39;49mpen(pensize\u001b[39m=\u001b[39;49mwidth)\n",
      "File \u001b[1;32mC:\\Program Files\\WindowsApps\\PythonSoftwareFoundation.Python.3.10_3.10.2032.0_x64__qbz5n2kfra8p0\\lib\\turtle.py:2460\u001b[0m, in \u001b[0;36mTPen.pen\u001b[1;34m(self, pen, **pendict)\u001b[0m\n\u001b[0;32m   2457\u001b[0m     sa, ca \u001b[39m=\u001b[39m math\u001b[39m.\u001b[39msin(\u001b[39mself\u001b[39m\u001b[39m.\u001b[39m_tilt), math\u001b[39m.\u001b[39mcos(\u001b[39mself\u001b[39m\u001b[39m.\u001b[39m_tilt)\n\u001b[0;32m   2458\u001b[0m     \u001b[39mself\u001b[39m\u001b[39m.\u001b[39m_shapetrafo \u001b[39m=\u001b[39m ( scx\u001b[39m*\u001b[39mca, scy\u001b[39m*\u001b[39m(shf\u001b[39m*\u001b[39mca \u001b[39m+\u001b[39m sa),\n\u001b[0;32m   2459\u001b[0m                         \u001b[39m-\u001b[39mscx\u001b[39m*\u001b[39msa, scy\u001b[39m*\u001b[39m(ca \u001b[39m-\u001b[39m shf\u001b[39m*\u001b[39msa))\n\u001b[1;32m-> 2460\u001b[0m \u001b[39mself\u001b[39;49m\u001b[39m.\u001b[39;49m_update()\n",
      "File \u001b[1;32mC:\\Program Files\\WindowsApps\\PythonSoftwareFoundation.Python.3.10_3.10.2032.0_x64__qbz5n2kfra8p0\\lib\\turtle.py:2664\u001b[0m, in \u001b[0;36mRawTurtle._update\u001b[1;34m(self)\u001b[0m\n\u001b[0;32m   2662\u001b[0m     \u001b[39mself\u001b[39m\u001b[39m.\u001b[39m_drawturtle()\n\u001b[0;32m   2663\u001b[0m     screen\u001b[39m.\u001b[39m_update()                  \u001b[39m# TurtleScreenBase\u001b[39;00m\n\u001b[1;32m-> 2664\u001b[0m     screen\u001b[39m.\u001b[39;49m_delay(screen\u001b[39m.\u001b[39;49m_delayvalue) \u001b[39m# TurtleScreenBase\u001b[39;00m\n\u001b[0;32m   2665\u001b[0m \u001b[39melse\u001b[39;00m:\n\u001b[0;32m   2666\u001b[0m     \u001b[39mself\u001b[39m\u001b[39m.\u001b[39m_update_data()\n",
      "File \u001b[1;32mC:\\Program Files\\WindowsApps\\PythonSoftwareFoundation.Python.3.10_3.10.2032.0_x64__qbz5n2kfra8p0\\lib\\turtle.py:565\u001b[0m, in \u001b[0;36mTurtleScreenBase._delay\u001b[1;34m(self, delay)\u001b[0m\n\u001b[0;32m    563\u001b[0m \u001b[39mdef\u001b[39;00m \u001b[39m_delay\u001b[39m(\u001b[39mself\u001b[39m, delay):\n\u001b[0;32m    564\u001b[0m     \u001b[39m\"\"\"Delay subsequent canvas actions for delay ms.\"\"\"\u001b[39;00m\n\u001b[1;32m--> 565\u001b[0m     \u001b[39mself\u001b[39;49m\u001b[39m.\u001b[39;49mcv\u001b[39m.\u001b[39;49mafter(delay)\n",
      "File \u001b[1;32mC:\\Program Files\\WindowsApps\\PythonSoftwareFoundation.Python.3.10_3.10.2032.0_x64__qbz5n2kfra8p0\\lib\\tkinter\\__init__.py:834\u001b[0m, in \u001b[0;36mMisc.after\u001b[1;34m(self, ms, func, *args)\u001b[0m\n\u001b[0;32m    826\u001b[0m \u001b[39m\"\"\"Call function once after given time.\u001b[39;00m\n\u001b[0;32m    827\u001b[0m \n\u001b[0;32m    828\u001b[0m \u001b[39mMS specifies the time in milliseconds. FUNC gives the\u001b[39;00m\n\u001b[0;32m    829\u001b[0m \u001b[39mfunction which shall be called. Additional parameters\u001b[39;00m\n\u001b[0;32m    830\u001b[0m \u001b[39mare given as parameters to the function call.  Return\u001b[39;00m\n\u001b[0;32m    831\u001b[0m \u001b[39midentifier to cancel scheduling with after_cancel.\"\"\"\u001b[39;00m\n\u001b[0;32m    832\u001b[0m \u001b[39mif\u001b[39;00m func \u001b[39mis\u001b[39;00m \u001b[39mNone\u001b[39;00m:\n\u001b[0;32m    833\u001b[0m     \u001b[39m# I'd rather use time.sleep(ms*0.001)\u001b[39;00m\n\u001b[1;32m--> 834\u001b[0m     \u001b[39mself\u001b[39;49m\u001b[39m.\u001b[39;49mtk\u001b[39m.\u001b[39;49mcall(\u001b[39m'\u001b[39;49m\u001b[39mafter\u001b[39;49m\u001b[39m'\u001b[39;49m, ms)\n\u001b[0;32m    835\u001b[0m     \u001b[39mreturn\u001b[39;00m \u001b[39mNone\u001b[39;00m\n\u001b[0;32m    836\u001b[0m \u001b[39melse\u001b[39;00m:\n",
      "\u001b[1;31mKeyboardInterrupt\u001b[0m: "
     ]
    }
   ],
   "source": [
    "import turtle as tu\n",
    "\n",
    "roo = tu.Turtle()  # Turtle object\n",
    "wn = tu.Screen()  # Screen Object\n",
    "wn.bgcolor(\"black\")  # Screen Bg color\n",
    "wn.title(\"Fractal Tree Pattern\")\n",
    "roo.left(90)  # moving the turtle 90 degrees towards left\n",
    "roo.speed(20)  # setting the speed of the turtle\n",
    "\n",
    "\n",
    "def draw(l):  # recursive function taking length 'l' as argument\n",
    "    if (l < 10):\n",
    "        return\n",
    "    else:\n",
    "\n",
    "        roo.pensize(2)  # Setting Pensize\n",
    "        roo.pencolor(\"yellow\")  # Setting Pencolor as yellow\n",
    "        roo.forward(l)  # moving turtle forward by 'l'\n",
    "        roo.left(30)  # moving the turtle 30 degrees towards left\n",
    "        draw(3 * l / 4)  # drawing a fractal on the left of the turtle object 'roo' with 3/4th of its length\n",
    "        roo.right(60)  # moving the turtle 60 degrees towards right\n",
    "        draw(3 * l / 4)  # drawing a fractal on the right of the turtle object 'roo' with 3/4th of its length\n",
    "        roo.left(30)  # moving the turtle 30 degrees towards left\n",
    "        roo.pensize(2)\n",
    "        roo.backward(l)  # returning the turtle back to its original psition\n",
    "\n",
    "\n",
    "draw(20)  # drawing 20 times\n",
    "\n",
    "roo.right(90)\n",
    "roo.speed(2000)\n",
    "\n",
    "\n",
    "# recursion\n",
    "def draw(l):\n",
    "    if (l < 10):\n",
    "        return\n",
    "    else:\n",
    "        roo.pensize(2)\n",
    "        roo.pencolor(\"magenta\")  # magenta\n",
    "        roo.forward(l)\n",
    "        roo.left(30)\n",
    "        draw(3 * l / 4)\n",
    "        roo.right(60)\n",
    "        draw(3 * l / 4)\n",
    "        roo.left(30)\n",
    "        roo.pensize(2)\n",
    "        roo.backward(l)\n",
    "\n",
    "\n",
    "draw(20)\n",
    "\n",
    "roo.left(270)\n",
    "roo.speed(2000)\n",
    "\n",
    "\n",
    "# recursion\n",
    "def draw(l):\n",
    "    if (l < 10):\n",
    "        return\n",
    "    else:\n",
    "        roo.pensize(2)\n",
    "        roo.pencolor(\"red\")  # red\n",
    "        roo.forward(l)\n",
    "        roo.left(30)\n",
    "        draw(3 * l / 4)\n",
    "        roo.right(60)\n",
    "        draw(3 * l / 4)\n",
    "        roo.left(30)\n",
    "        roo.pensize(2)\n",
    "        roo.backward(l)\n",
    "\n",
    "\n",
    "draw(20)\n",
    "\n",
    "roo.right(90)\n",
    "roo.speed(2000)\n",
    "\n",
    "\n",
    "# recursion\n",
    "def draw(l):\n",
    "    if (l < 10):\n",
    "        return\n",
    "    else:\n",
    "        roo.pensize(2)\n",
    "        roo.pencolor('#FFF8DC')  # white\n",
    "        roo.forward(l)\n",
    "        roo.left(30)\n",
    "        draw(3 * l / 4)\n",
    "        roo.right(60)\n",
    "        draw(3 * l / 4)\n",
    "        roo.left(30)\n",
    "        roo.pensize(2)\n",
    "        roo.backward(l)\n",
    "\n",
    "\n",
    "draw(20)\n",
    "\n",
    "\n",
    "########################################################\n",
    "\n",
    "def draw(l):\n",
    "    if (l < 10):\n",
    "        return\n",
    "    else:\n",
    "\n",
    "        roo.pensize(3)\n",
    "        roo.pencolor(\"lightgreen\")  # lightgreen\n",
    "        roo.forward(l)\n",
    "        roo.left(30)\n",
    "        draw(4 * l / 5)\n",
    "        roo.right(60)\n",
    "        draw(4 * l / 5)\n",
    "        roo.left(30)\n",
    "        roo.pensize(3)\n",
    "        roo.backward(l)\n",
    "\n",
    "\n",
    "draw(40)\n",
    "\n",
    "roo.right(90)\n",
    "roo.speed(2000)\n",
    "\n",
    "\n",
    "# recursion\n",
    "def draw(l):\n",
    "    if (l < 10):\n",
    "        return\n",
    "    else:\n",
    "        roo.pensize(3)\n",
    "        roo.pencolor(\"red\")  # red\n",
    "        roo.forward(l)\n",
    "        roo.left(30)\n",
    "        draw(4 * l / 5)\n",
    "        roo.right(60)\n",
    "        draw(4 * l / 5)\n",
    "        roo.left(30)\n",
    "        roo.pensize(3)\n",
    "        roo.backward(l)\n",
    "\n",
    "\n",
    "draw(40)\n",
    "\n",
    "roo.left(270)\n",
    "roo.speed(2000)\n",
    "\n",
    "\n",
    "# recursion\n",
    "def draw(l):\n",
    "    if (l < 10):\n",
    "        return\n",
    "    else:\n",
    "        roo.pensize(3)\n",
    "        roo.pencolor(\"yellow\")  # yellow\n",
    "        roo.forward(l)\n",
    "        roo.left(30)\n",
    "        draw(4 * l / 5)\n",
    "        roo.right(60)\n",
    "        draw(4 * l / 5)\n",
    "        roo.left(30)\n",
    "        roo.pensize(3)\n",
    "        roo.backward(l)\n",
    "\n",
    "\n",
    "draw(40)\n",
    "\n",
    "roo.right(90)\n",
    "roo.speed(2000)\n",
    "\n",
    "\n",
    "# recursion\n",
    "def draw(l):\n",
    "    if (l < 10):\n",
    "        return\n",
    "    else:\n",
    "        roo.pensize(3)\n",
    "        roo.pencolor('#FFF8DC')  # white\n",
    "        roo.forward(l)\n",
    "        roo.left(30)\n",
    "        draw(4 * l / 5)\n",
    "        roo.right(60)\n",
    "        draw(4 * l / 5)\n",
    "        roo.left(30)\n",
    "        roo.pensize(3)\n",
    "        roo.backward(l)\n",
    "\n",
    "\n",
    "draw(40)\n",
    "\n",
    "\n",
    "########################################################\n",
    "def draw(l):\n",
    "    if (l < 10):\n",
    "        return\n",
    "    else:\n",
    "\n",
    "        roo.pensize(2)\n",
    "        roo.pencolor(\"cyan\")  # cyan\n",
    "        roo.forward(l)\n",
    "        roo.left(30)\n",
    "        draw(6 * l / 7)\n",
    "        roo.right(60)\n",
    "        draw(6 * l / 7)\n",
    "        roo.left(30)\n",
    "        roo.pensize(2)\n",
    "        roo.backward(l)\n",
    "\n",
    "\n",
    "draw(60)\n",
    "\n",
    "roo.right(90)\n",
    "roo.speed(2000)\n",
    "\n",
    "\n",
    "# recursion\n",
    "def draw(l):\n",
    "    if (l < 10):\n",
    "        return\n",
    "    else:\n",
    "        roo.pensize(2)\n",
    "        roo.pencolor(\"yellow\")  # yellow\n",
    "        roo.forward(l)\n",
    "        roo.left(30)\n",
    "        draw(6 * l / 7)\n",
    "        roo.right(60)\n",
    "        draw(6 * l / 7)\n",
    "        roo.left(30)\n",
    "        roo.pensize(2)\n",
    "        roo.backward(l)\n",
    "\n",
    "\n",
    "draw(60)\n",
    "\n",
    "roo.left(270)\n",
    "roo.speed(2000)\n",
    "\n",
    "\n",
    "# recursion\n",
    "def draw(l):\n",
    "    if (l < 10):\n",
    "        return\n",
    "    else:\n",
    "        roo.pensize(2)\n",
    "        roo.pencolor(\"magenta\")  # magenta\n",
    "        roo.forward(l)\n",
    "        roo.left(30)\n",
    "        draw(6 * l / 7)\n",
    "        roo.right(60)\n",
    "        draw(6 * l / 7)\n",
    "        roo.left(30)\n",
    "        roo.pensize(2)\n",
    "        roo.backward(l)\n",
    "\n",
    "\n",
    "draw(60)\n",
    "\n",
    "roo.right(90)\n",
    "roo.speed(2000)\n",
    "\n",
    "\n",
    "# recursion\n",
    "def draw(l):\n",
    "    if (l < 10):\n",
    "        return\n",
    "    else:\n",
    "        roo.pensize(2)\n",
    "        roo.pencolor('#FFF8DC')  # white\n",
    "        roo.forward(l)\n",
    "        roo.left(30)\n",
    "        draw(6 * l / 7)\n",
    "        roo.right(60)\n",
    "        draw(6 * l / 7)\n",
    "        roo.left(30)\n",
    "        roo.pensize(2)\n",
    "        roo.backward(l)\n",
    "\n",
    "\n",
    "draw(60)\n",
    "wn.exitonclick()"
   ]
  },
  {
   "cell_type": "markdown",
   "metadata": {},
   "source": [
    "# Monty Hall Problem with Python"
   ]
  },
  {
   "cell_type": "code",
   "execution_count": 9,
   "metadata": {},
   "outputs": [
    {
     "name": "stderr",
     "output_type": "stream",
     "text": [
      "C:\\Users\\isaac\\AppData\\Local\\Temp\\ipykernel_9108\\2166176975.py:21: DeprecationWarning: This function is deprecated. Please call randint(0, 2 + 1) instead\n",
      "  playerdoors = numpy.random.random_integers(0,2, (1000 * 1000 * 1,))\n"
     ]
    },
    {
     "name": "stdout",
     "output_type": "stream",
     "text": [
      "Winning percentage without changing choice:  0.33285\n",
      "Winning percentage while changing choice:  0.66715\n"
     ]
    }
   ],
   "source": [
    "import random\n",
    "from random import seed, randint\n",
    "import numpy\n",
    "\n",
    "def game(winningdoor, selecteddoor, change=False):\n",
    "    assert winningdoor < 3\n",
    "    assert winningdoor >= 0\n",
    "\n",
    "    # Presenter removes the first door that was not selected neither winning\n",
    "    removeddoor = next(i for i in range(3) if i != selecteddoor and i != winningdoor)\n",
    "\n",
    "    # Player decides to change its choice\n",
    "    if change:\n",
    "        selecteddoor = next(i for i in range(3) if i != selecteddoor and i != removeddoor)\n",
    "\n",
    "    # We suppose the player never wants to change its initial choice.\n",
    "    return selecteddoor == winningdoor\n",
    "\n",
    "\n",
    "if __name__ == '__main__':\n",
    "    playerdoors = numpy.random.random_integers(0,2, (1000 * 1000 * 1,))\n",
    "\n",
    "    winningdoors = [d for d in playerdoors if game(1, d)]\n",
    "    print(\"Winning percentage without changing choice: \", len(winningdoors) / len(playerdoors))\n",
    "\n",
    "    winningdoors = [d for d in playerdoors if game(1, d, change=True)]\n",
    "    print(\"Winning percentage while changing choice: \", len(winningdoors) / len(playerdoors))"
   ]
  },
  {
   "cell_type": "markdown",
   "metadata": {},
   "source": [
    "# Video to Audio Converter with Python"
   ]
  },
  {
   "cell_type": "code",
   "execution_count": 10,
   "metadata": {},
   "outputs": [],
   "source": [
    "from pytube import YouTube\n",
    "import pytube\n",
    "import os\n",
    "\n",
    "def main():\n",
    "    video_url = input('Enter YouTube video URL: ')\n",
    "\n",
    "    if os.name == 'nt':\n",
    "        path = os.getcwd() + '\\\\'\n",
    "    else:\n",
    "        path = os.getcwd() + '/'\n",
    "\n",
    "    name = pytube.extract.video_id(video_url)\n",
    "    YouTube(video_url).streams.filter(only_audio=True).first().download(filename=name)\n",
    "    location = path + name + '.mp4'\n",
    "    renametomp3 = path + name + '.mp3'\n",
    "\n",
    "    if os.name == 'nt':\n",
    "        os.system('ren {0} {1}'. format(location, renametomp3))\n",
    "    else:\n",
    "        os.system('mv {0} {1}'. format(location, renametomp3))\n",
    "    \n",
    "if __name__ == '__main__':\n",
    "    main()"
   ]
  },
  {
   "cell_type": "markdown",
   "metadata": {},
   "source": [
    "# Tic Tac Toe GUI with Python"
   ]
  },
  {
   "cell_type": "markdown",
   "metadata": {},
   "source": []
  }
 ],
 "metadata": {
  "kernelspec": {
   "display_name": "Python 3.10.7 64-bit (microsoft store)",
   "language": "python",
   "name": "python3"
  },
  "language_info": {
   "codemirror_mode": {
    "name": "ipython",
    "version": 3
   },
   "file_extension": ".py",
   "mimetype": "text/x-python",
   "name": "python",
   "nbconvert_exporter": "python",
   "pygments_lexer": "ipython3",
   "version": "3.10.7"
  },
  "orig_nbformat": 4,
  "vscode": {
   "interpreter": {
    "hash": "7bfc573da150e4988ccda7720c2bb7a455e29c1210687e5312fc4afedb48f829"
   }
  }
 },
 "nbformat": 4,
 "nbformat_minor": 2
}
